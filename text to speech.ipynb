{
 "cells": [
  {
   "cell_type": "code",
   "execution_count": 1,
   "id": "07f3155d",
   "metadata": {},
   "outputs": [
    {
     "name": "stdout",
     "output_type": "stream",
     "text": [
      "Enter the text you want to convert to speech: shivansh\n"
     ]
    }
   ],
   "source": [
    "from gtts import gTTS\n",
    "import os\n",
    "\n",
    "def text_to_speech(text, language='en'):\n",
    "    # Create a gTTS object\n",
    "    tts = gTTS(text=text, lang=language, slow=False)\n",
    "\n",
    "    # Save the speech as an audio file\n",
    "    tts.save(\"output.mp3\")\n",
    "\n",
    "    # Play the audio file (platform-dependent)\n",
    "    if os.name == 'posix':  # Linux or macOS\n",
    "        os.system(\"afplay output.mp3\")\n",
    "    elif os.name == 'nt':  # Windows\n",
    "        os.system(\"start output.mp3\")\n",
    "\n",
    "if __name__ == \"__main__\":\n",
    "    input_text = input(\"Enter the text you want to convert to speech: \")\n",
    "    text_to_speech(input_text)"
   ]
  },
  {
   "cell_type": "code",
   "execution_count": null,
   "id": "d56f0a34",
   "metadata": {},
   "outputs": [],
   "source": []
  }
 ],
 "metadata": {
  "kernelspec": {
   "display_name": "Python 3 (ipykernel)",
   "language": "python",
   "name": "python3"
  },
  "language_info": {
   "codemirror_mode": {
    "name": "ipython",
    "version": 3
   },
   "file_extension": ".py",
   "mimetype": "text/x-python",
   "name": "python",
   "nbconvert_exporter": "python",
   "pygments_lexer": "ipython3",
   "version": "3.11.4"
  }
 },
 "nbformat": 4,
 "nbformat_minor": 5
}
